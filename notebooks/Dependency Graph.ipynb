{
 "cells": [
  {
   "cell_type": "markdown",
   "metadata": {},
   "source": [
    "# Twitter Automation Scanner - Dependencies Graph"
   ]
  },
  {
   "cell_type": "markdown",
   "metadata": {},
   "source": [
    "## Step 1 - Install required dependencies\n",
    "\n",
    "- [networkx](https://networkx.org) - NetworkX is a Python package for the creation, manipulation, and study of the structure, dynamics, and functions of complex networks.\n",
    "- [matplotlib](https://matplotlib.org) - Matplotlib is a comprehensive library for creating static, animated, and interactive visualizations in Python. Matplotlib makes easy things easy and hard things possible."
   ]
  },
  {
   "cell_type": "code",
   "execution_count": null,
   "metadata": {},
   "outputs": [],
   "source": [
    "pip install networkx matplotlib"
   ]
  },
  {
   "cell_type": "markdown",
   "metadata": {},
   "source": [
    "## Step 2 - Load source JSON file"
   ]
  },
  {
   "cell_type": "code",
   "execution_count": null,
   "metadata": {},
   "outputs": [],
   "source": [
    "import json\n",
    "import os\n",
    "\n",
    "folder_walk = os.walk('sourcedata/dbdump')\n",
    "first_file_in_folder = next(folder_walk)[2][0]\n",
    "\n",
    "report_file = open(f'{ os.getcwd() }/sourcedata/dbdump/{first_file_in_folder}')\n",
    "user_data = json.load(report_file)\n",
    "\n",
    "users = []\n",
    "\n",
    "for user in user_data:\n",
    "    users.append((user['_id'],{'followers': user['followers'], 'following': user['following'], 'id': user['_id']}))"
   ]
  },
  {
   "cell_type": "markdown",
   "metadata": {},
   "source": [
    "## Step 3 - Draw dependencies graph"
   ]
  },
  {
   "cell_type": "code",
   "execution_count": null,
   "metadata": {},
   "outputs": [],
   "source": [
    "import matplotlib as mpl\n",
    "import matplotlib.pyplot as plt\n",
    "import networkx as nx\n",
    "\n",
    "G = nx.DiGraph()\n",
    "\n",
    "usernames = list()\n",
    "\n",
    "# Set printed graph size\n",
    "plt.rcParams[\"figure.figsize\"] = (12, 6)\n",
    "\n",
    "# Get a list of usernames\n",
    "for user in users:\n",
    "    usernames.append(user[0])\n",
    "\n",
    "# Fill in graph\n",
    "for user in users:\n",
    "    username = user[0]\n",
    "    \n",
    "    for follower in user[1]['followers']:\n",
    "        if follower in usernames and G.has_edge(follower, username) == False:\n",
    "            G.add_edge(follower, username)\n",
    "    for follower in user[1]['following']:\n",
    "        if follower in usernames and G.has_edge(username, follower) == False:\n",
    "            G.add_edge(username, follower)         \n",
    "            \n",
    "pos = nx.spring_layout(G)\n",
    "\n",
    "# Set node sizes\n",
    "node_sizes = list()\n",
    "\n",
    "for node in list(G.nodes):\n",
    "    node_sizes.append( 100 + 100 * (len(list(G.edges(node)))))\n",
    "    print( node, 100 + 100 * (len(list(G.edges(node)))) )\n",
    "    \n",
    "# Draw nodes\n",
    "nx.draw_networkx_nodes(G, pos, node_size=node_sizes, node_color=\"orange\")\n",
    "\n",
    "# Draw edges\n",
    "nx.draw_networkx_edges(\n",
    "    G,\n",
    "    pos,\n",
    "    width=1,\n",
    "    arrowstyle=\"-|>\",\n",
    "    arrowsize=15,\n",
    "    node_size=list(map(lambda n: n + 200, node_sizes)),\n",
    "    edge_color=\"gray\",\n",
    "    arrows=True\n",
    ")\n",
    "\n",
    "# Draw node labels\n",
    "nx.draw_networkx_labels(G, pos, font_size=8)\n",
    "\n",
    "plt.axis(\"off\")\n",
    "plt.show()"
   ]
  },
  {
   "cell_type": "code",
   "execution_count": null,
   "metadata": {},
   "outputs": [],
   "source": []
  },
  {
   "cell_type": "code",
   "execution_count": null,
   "metadata": {},
   "outputs": [],
   "source": []
  }
 ],
 "metadata": {
  "kernelspec": {
   "display_name": "Python 3 (ipykernel)",
   "language": "python",
   "name": "python3"
  },
  "language_info": {
   "codemirror_mode": {
    "name": "ipython",
    "version": 3
   },
   "file_extension": ".py",
   "mimetype": "text/x-python",
   "name": "python",
   "nbconvert_exporter": "python",
   "pygments_lexer": "ipython3",
   "version": "3.9.6"
  },
  "vscode": {
   "interpreter": {
    "hash": "31f2aee4e71d21fbe5cf8b01ff0e069b9275f58929596ceb00d14d90e3e16cd6"
   }
  }
 },
 "nbformat": 4,
 "nbformat_minor": 2
}
