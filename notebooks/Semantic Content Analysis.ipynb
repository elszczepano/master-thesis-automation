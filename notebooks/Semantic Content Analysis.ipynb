{
 "cells": [
  {
   "cell_type": "markdown",
   "id": "3a976ca6",
   "metadata": {},
   "source": [
    "# Twitter Automation Scanner - Semantic Content analysis"
   ]
  },
  {
   "cell_type": "markdown",
   "id": "a59e6e96",
   "metadata": {},
   "source": [
    "## Step 1 - Install required dependencies\n",
    "\n",
    "- [langdetect](https://github.com/Mimino666/langdetect) - langugage detection library"
   ]
  },
  {
   "cell_type": "code",
   "execution_count": 1,
   "id": "663b19e0",
   "metadata": {},
   "outputs": [
    {
     "name": "stdout",
     "output_type": "stream",
     "text": [
      "Defaulting to user installation because normal site-packages is not writeable\n",
      "Requirement already satisfied: langdetect in /Users/elszczepano/Library/Python/3.9/lib/python/site-packages (1.0.9)\n",
      "Requirement already satisfied: six in /Library/Developer/CommandLineTools/Library/Frameworks/Python3.framework/Versions/3.9/lib/python3.9/site-packages (from langdetect) (1.15.0)\n",
      "\n",
      "\u001b[1m[\u001b[0m\u001b[34;49mnotice\u001b[0m\u001b[1;39;49m]\u001b[0m\u001b[39;49m A new release of pip available: \u001b[0m\u001b[31;49m22.2.2\u001b[0m\u001b[39;49m -> \u001b[0m\u001b[32;49m22.3\u001b[0m\n",
      "\u001b[1m[\u001b[0m\u001b[34;49mnotice\u001b[0m\u001b[1;39;49m]\u001b[0m\u001b[39;49m To update, run: \u001b[0m\u001b[32;49m/Library/Developer/CommandLineTools/usr/bin/python3 -m pip install --upgrade pip\u001b[0m\n",
      "Note: you may need to restart the kernel to use updated packages.\n"
     ]
    }
   ],
   "source": [
    "pip install langdetect "
   ]
  },
  {
   "cell_type": "markdown",
   "id": "a9cfc052",
   "metadata": {},
   "source": [
    "## Step 2 - Load source JSON file"
   ]
  },
  {
   "cell_type": "code",
   "execution_count": 3,
   "id": "44abf02d",
   "metadata": {},
   "outputs": [],
   "source": [
    "import json\n",
    "import os\n",
    "\n",
    "folder_walk = os.walk('sourcedata/user')\n",
    "first_file_in_folder = next(folder_walk)[2][0]\n",
    "\n",
    "report_file = open(f'{ os.getcwd() }/sourcedata/user/{first_file_in_folder}')\n",
    "user_data = json.load(report_file)"
   ]
  },
  {
   "cell_type": "markdown",
   "id": "2a04a7e9",
   "metadata": {},
   "source": [
    "## Step 3 - Detect the user language"
   ]
  },
  {
   "cell_type": "code",
   "execution_count": 4,
   "id": "47042350",
   "metadata": {},
   "outputs": [
    {
     "name": "stdout",
     "output_type": "stream",
     "text": [
      "For the provided report used language probabilities are:\n",
      "Detected language is pl with probability 99.9999%\n"
     ]
    }
   ],
   "source": [
    "from langdetect import detect_langs\n",
    "\n",
    "separator = ' '\n",
    "tweets = []\n",
    "\n",
    "for tweet in user_data['tweets']:\n",
    "    tweets.append(tweet['text'])\n",
    "\n",
    "merged_user_posts = separator.join(tweets)\n",
    "detected_langs_result = detect_langs(merged_user_posts)\n",
    "\n",
    "print( 'For the provided report used language probabilities are:' )\n",
    "for result in detected_langs_result:\n",
    "    probability = round(result.prob * 100, 4)\n",
    "    print(f'Detected language is { result.lang } with probability { probability }%')\n",
    "\n"
   ]
  },
  {
   "cell_type": "code",
   "execution_count": null,
   "id": "5658f37e",
   "metadata": {},
   "outputs": [],
   "source": []
  }
 ],
 "metadata": {
  "kernelspec": {
   "display_name": "Python 3 (ipykernel)",
   "language": "python",
   "name": "python3"
  },
  "language_info": {
   "codemirror_mode": {
    "name": "ipython",
    "version": 3
   },
   "file_extension": ".py",
   "mimetype": "text/x-python",
   "name": "python",
   "nbconvert_exporter": "python",
   "pygments_lexer": "ipython3",
   "version": "3.9.6"
  },
  "vscode": {
   "interpreter": {
    "hash": "31f2aee4e71d21fbe5cf8b01ff0e069b9275f58929596ceb00d14d90e3e16cd6"
   }
  }
 },
 "nbformat": 4,
 "nbformat_minor": 5
}
