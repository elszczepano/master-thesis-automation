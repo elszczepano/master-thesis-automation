{
 "cells": [
  {
   "cell_type": "markdown",
   "id": "6f1b9b05",
   "metadata": {},
   "source": [
    "## Install dependencies\n",
    "\n",
    "- [numpy](https://numpy.org) - offers comprehensive mathematical functions, random number generators, linear algebra routines, Fourier transforms, and more.\n",
    "- [pandas](https://pandas.pydata.org) - pandas is a fast, powerful, flexible and easy to use open source data analysis and manipulation tool, built on top of the Python programming language.\n",
    "- [scikit-learn](https://scikit-learn.org/stable) - Simple and efficient tools for predictive data analysis · Accessible to everybody, and reusable in various contexts "
   ]
  },
  {
   "cell_type": "code",
   "execution_count": null,
   "id": "3a631375",
   "metadata": {},
   "outputs": [],
   "source": [
    "pip install scikit-learn pandas numpy"
   ]
  },
  {
   "cell_type": "markdown",
   "id": "505b1594",
   "metadata": {},
   "source": [
    "## Load dataset"
   ]
  },
  {
   "cell_type": "code",
   "execution_count": null,
   "id": "55801bc7",
   "metadata": {},
   "outputs": [],
   "source": [
    "import pandas as pd\n",
    "import os\n",
    "\n",
    "folder_walk = os.walk('sourcedata/lda')\n",
    "first_file_in_folder = next(folder_walk)[2][0]\n",
    "\n",
    "spreadsheet = pd.read_csv(f'{ os.getcwd() }/sourcedata/lda/{first_file_in_folder}')"
   ]
  },
  {
   "cell_type": "markdown",
   "id": "3c73c947",
   "metadata": {},
   "source": [
    "## Perform Linear Discriminant Analysis"
   ]
  },
  {
   "cell_type": "code",
   "execution_count": null,
   "id": "bc7f1f33",
   "metadata": {},
   "outputs": [],
   "source": [
    "#LOAD NECESSARY LIBRARIES\n",
    "from sklearn.model_selection import train_test_split\n",
    "from sklearn.discriminant_analysis import LinearDiscriminantAnalysis\n",
    "from sklearn.model_selection import RepeatedStratifiedKFold\n",
    "from sklearn.model_selection import cross_val_score\n",
    "from sklearn import datasets\n",
    "import matplotlib.pyplot as plt\n",
    "import pandas as pd\n",
    "import numpy as np\n",
    "\n",
    "#DEFINE PREDICTOR AND RESPONSE VARIABLES\n",
    "X = spreadsheet[['lat_konta', 'srednia_postow', 'srednia_dni_aktywne', 'max_postow', 'obserwacje_ratio', 'slowa_rdzenie', 'ratio_rdzenie_unikalne', 'aktywnosc_start', 'aktywnosc_koniec', 'powiazania']]\n",
    "y = spreadsheet['typ']\n",
    "\n",
    "#FIT LDA MODEL\n",
    "model = LinearDiscriminantAnalysis()\n",
    "model.fit(X, y)\n",
    "\n",
    "#DEFINE METHOD TO EVALUATE MODEL\n",
    "cv = RepeatedStratifiedKFold(n_splits=10, n_repeats=3, random_state=1)\n",
    "\n",
    "#EVALUATE MODEL\n",
    "scores = cross_val_score(model, X, y, scoring='accuracy', cv=cv, n_jobs=-1)\n",
    "print(np.mean(scores))\n",
    "\n",
    "#USE MODEL TO MAKE PREDICTION ON NEW OBSERVATION\n",
    "sample = [2,11,16,48,0.2160745486,8560,0.3699861687,2,21,17]\n",
    "print(model.predict([sample]))"
   ]
  },
  {
   "cell_type": "code",
   "execution_count": null,
   "id": "b33bdba6",
   "metadata": {},
   "outputs": [],
   "source": []
  },
  {
   "cell_type": "code",
   "execution_count": null,
   "id": "f7f80527",
   "metadata": {},
   "outputs": [],
   "source": []
  }
 ],
 "metadata": {
  "kernelspec": {
   "display_name": "Python 3 (ipykernel)",
   "language": "python",
   "name": "python3"
  },
  "language_info": {
   "codemirror_mode": {
    "name": "ipython",
    "version": 3
   },
   "file_extension": ".py",
   "mimetype": "text/x-python",
   "name": "python",
   "nbconvert_exporter": "python",
   "pygments_lexer": "ipython3",
   "version": "3.9.6"
  },
  "vscode": {
   "interpreter": {
    "hash": "31f2aee4e71d21fbe5cf8b01ff0e069b9275f58929596ceb00d14d90e3e16cd6"
   }
  }
 },
 "nbformat": 4,
 "nbformat_minor": 5
}
